{
 "metadata": {
  "language_info": {
   "codemirror_mode": {
    "name": "ipython",
    "version": 3
   },
   "file_extension": ".py",
   "mimetype": "text/x-python",
   "name": "python",
   "nbconvert_exporter": "python",
   "pygments_lexer": "ipython3",
   "version": "3.8.3-final"
  },
  "orig_nbformat": 2,
  "kernelspec": {
   "name": "python3",
   "display_name": "Python 3",
   "language": "python"
  }
 },
 "nbformat": 4,
 "nbformat_minor": 2,
 "cells": [
  {
   "source": [
    "# Coursework 1"
   ],
   "cell_type": "markdown",
   "metadata": {}
  },
  {
   "cell_type": "code",
   "execution_count": 1,
   "metadata": {},
   "outputs": [],
   "source": [
    "import numpy as np\n",
    "import math\n",
    "import random"
   ]
  },
  {
   "source": [
    "Returns a grid of random numbers of size width x height"
   ],
   "cell_type": "markdown",
   "metadata": {}
  },
  {
   "cell_type": "code",
   "execution_count": 2,
   "metadata": {},
   "outputs": [],
   "source": [
    "def generate_grid(width, height):\n",
    "    grid = np.random.randint(9, size=(height, width))\n",
    "    \n",
    "    return grid"
   ]
  },
  {
   "source": [
    "Returns a unique identifier for grid cell"
   ],
   "cell_type": "markdown",
   "metadata": {}
  },
  {
   "cell_type": "code",
   "execution_count": 3,
   "metadata": {},
   "outputs": [],
   "source": [
    "def id_from_cell(grid, x, y):\n",
    "    width = len(grid[0])\n",
    "    \n",
    "    return x + (width * y)"
   ]
  },
  {
   "source": [
    "Returns a cell's position from it's id"
   ],
   "cell_type": "markdown",
   "metadata": {}
  },
  {
   "cell_type": "code",
   "execution_count": 4,
   "metadata": {},
   "outputs": [],
   "source": [
    "def cell_from_id(grid, id):\n",
    "    width = len(grid[0])\n",
    "    x = id % width\n",
    "    y = (id - x) // width\n",
    "    \n",
    "    return (x, y)"
   ]
  },
  {
   "source": [
    "Returns the id of the final cell in a grid (bottom right)"
   ],
   "cell_type": "markdown",
   "metadata": {}
  },
  {
   "cell_type": "code",
   "execution_count": 5,
   "metadata": {},
   "outputs": [],
   "source": [
    "def get_end_id(grid):\n",
    "    width = len(grid[0])\n",
    "    height = len(grid)\n",
    "\n",
    "    return id_from_cell(grid, width - 1, height - 1)"
   ]
  },
  {
   "source": [
    "Returns the value of cell at position (x, y) or at cell id"
   ],
   "cell_type": "markdown",
   "metadata": {}
  },
  {
   "cell_type": "code",
   "execution_count": 6,
   "metadata": {},
   "outputs": [],
   "source": [
    "def get_val_at_pos(grid, x, y):\n",
    "    val = grid[y][x]\n",
    "\n",
    "    return val\n",
    "\n",
    "def get_val_at_id(grid, id):\n",
    "    pos = cell_from_id(grid, id)\n",
    "    val = get_val_at_pos(grid, pos[0], pos[1])\n",
    "\n",
    "    return val"
   ]
  },
  {
   "source": [
    "Returns a dictionary of a cell's details"
   ],
   "cell_type": "markdown",
   "metadata": {}
  },
  {
   "cell_type": "code",
   "execution_count": 7,
   "metadata": {},
   "outputs": [],
   "source": [
    "def gen_cell_dict(grid, id):\n",
    "    width = len(grid[0])\n",
    "    height = len(grid)\n",
    "    n = id - width\n",
    "    e = id + 1\n",
    "    s = id + width\n",
    "    w = id - 1\n",
    "\n",
    "    # sets neighbour to -1 if out of grid bounds\n",
    "    if n < 0:\n",
    "        n = -1\n",
    "    if id // width != e // width:\n",
    "        e = -1\n",
    "    if s >= width * height:\n",
    "        s = -1\n",
    "    if id // width != w // width:\n",
    "        w = -1\n",
    "    \n",
    "    # populates the dictionary for a cell\n",
    "    cell_dict = {\n",
    "        'visited':False,\n",
    "        'parent':-1,\n",
    "        'north':n,\n",
    "        'east':e,\n",
    "        'south':s,\n",
    "        'west':w\n",
    "    }\n",
    "\n",
    "    return cell_dict"
   ]
  },
  {
   "source": [
    "Returns a list of the ids of the unvisited neighbours of a cell"
   ],
   "cell_type": "markdown",
   "metadata": {}
  },
  {
   "cell_type": "code",
   "execution_count": 8,
   "metadata": {},
   "outputs": [],
   "source": [
    "def get_cell_unvisited_neighbours(grid_dict, id):\n",
    "    cell_dict = grid_dict[id]\n",
    "\n",
    "    neighbour_ids = []\n",
    "    for direction in ['north', 'east', 'south', 'west']:\n",
    "        direction_id = cell_dict[direction]\n",
    "        \n",
    "        # only adds if neighbour is within grid, and has yet to be visited\n",
    "        if direction_id != -1 and not grid_dict[direction_id]['visited']:\n",
    "            neighbour_ids.append(cell_dict[direction])\n",
    "    \n",
    "    return neighbour_ids"
   ]
  },
  {
   "source": [
    "Returns a list of the ids of the neighbours of a cell"
   ],
   "cell_type": "markdown",
   "metadata": {}
  },
  {
   "cell_type": "code",
   "execution_count": 9,
   "metadata": {},
   "outputs": [],
   "source": [
    "def get_cell_neighbours(grid_dict, id):\n",
    "    cell_dict = grid_dict[id]\n",
    "\n",
    "    neighbour_ids = []\n",
    "    for direction in ['north', 'east', 'south', 'west']:\n",
    "        direction_id = cell_dict[direction]\n",
    "\n",
    "        # only adds if cell is within grid\n",
    "        if direction_id != -1:\n",
    "            neighbour_ids.append(cell_dict[direction])\n",
    "    \n",
    "    return neighbour_ids"
   ]
  },
  {
   "source": [
    "Adds a key value pair to a given dictionary"
   ],
   "cell_type": "markdown",
   "metadata": {}
  },
  {
   "cell_type": "code",
   "execution_count": 10,
   "metadata": {},
   "outputs": [],
   "source": [
    "def add_to_dict(given_dict, key, value):\n",
    "    given_dict[key] = value"
   ]
  },
  {
   "source": [
    "Returns a dictionary of all cells, containing their neighbours"
   ],
   "cell_type": "markdown",
   "metadata": {}
  },
  {
   "cell_type": "code",
   "execution_count": 11,
   "metadata": {},
   "outputs": [],
   "source": [
    "def gen_grid_dict(grid):\n",
    "    width = len(grid[0])\n",
    "    height = len(grid)\n",
    "\n",
    "    dicts = {}\n",
    "    for y in range(height):\n",
    "        for x in range(width):\n",
    "            id = id_from_cell(grid, x, y)\n",
    "            cell_dict = gen_cell_dict(grid, id)\n",
    "            dicts[id] = cell_dict\n",
    "    \n",
    "    return dicts"
   ]
  },
  {
   "source": [
    "Makes a movement by setting the new cell's parent to the previous cell's id"
   ],
   "cell_type": "markdown",
   "metadata": {}
  },
  {
   "cell_type": "code",
   "execution_count": 12,
   "metadata": {},
   "outputs": [],
   "source": [
    "def move_cell(grid_dict, parent_cell_id, cell_id):\n",
    "    cell_dict = grid_dict[cell_id]\n",
    "    cell_dict['parent'] = parent_cell_id"
   ]
  },
  {
   "source": [
    "Returns the length of the generated path"
   ],
   "cell_type": "markdown",
   "metadata": {}
  },
  {
   "cell_type": "code",
   "execution_count": 13,
   "metadata": {},
   "outputs": [],
   "source": [
    "def path_len(grid, path_ids):\n",
    "    value = 0\n",
    "    for id in path_ids:\n",
    "        value += get_val_at_id(grid, id)\n",
    "    \n",
    "    return value"
   ]
  },
  {
   "source": [
    "Returns the path from start to finish"
   ],
   "cell_type": "markdown",
   "metadata": {}
  },
  {
   "cell_type": "code",
   "execution_count": 14,
   "metadata": {},
   "outputs": [],
   "source": [
    "def get_path(grid, grid_dict):\n",
    "    cell_id = get_end_id(grid)\n",
    "\n",
    "    cells = []\n",
    "    last_run = False\n",
    "    while(cell_id != -1 or last_run):\n",
    "        cells.append(cell_id)\n",
    "        cell_id = grid_dict[cell_id]['parent']\n",
    "\n",
    "        if cell_id == -1 and not last_run:\n",
    "            last_run = True\n",
    "            \n",
    "        if cell_id == -1 and last_run:\n",
    "            last_run = False\n",
    "    \n",
    "    cells.reverse()\n",
    "    return cells"
   ]
  },
  {
   "source": [
    "Zigzag Algorithm:\n",
    "\n",
    "Zig zags east then south from the start of the list to the end"
   ],
   "cell_type": "markdown",
   "metadata": {}
  },
  {
   "cell_type": "code",
   "execution_count": 15,
   "metadata": {},
   "outputs": [],
   "source": [
    "def zigzag(grid, grid_dict):\n",
    "    end_id = get_end_id(grid)\n",
    "    \n",
    "    cell_id = 0\n",
    "    while cell_id != end_id:\n",
    "        cell_dict = grid_dict[cell_id]\n",
    "\n",
    "        east_id = cell_dict['east']\n",
    "        # prevents travel east when at right edge of grid\n",
    "        if not east_id == -1:\n",
    "            move_cell(grid_dict, cell_id, east_id)\n",
    "            cell_id = east_id\n",
    "\n",
    "        cell_dict = grid_dict[cell_id]\n",
    "\n",
    "        south_id = cell_dict['south']\n",
    "        # prevents travel south when at bottom edge of grid\n",
    "        if not south_id == -1:\n",
    "            move_cell(grid_dict, cell_id, south_id)\n",
    "            cell_id = south_id\n",
    "    \n",
    "    return get_path(grid, grid_dict)"
   ]
  },
  {
   "source": [
    "Dijkstra's Algorithm:"
   ],
   "cell_type": "markdown",
   "metadata": {}
  },
  {
   "cell_type": "code",
   "execution_count": 16,
   "metadata": {},
   "outputs": [],
   "source": [
    "def dijkstras(grid, grid_dict):\n",
    "    end_id = get_end_id(grid)\n",
    "\n",
    "    unvisited_ids = []\n",
    "\n",
    "    for key in grid_dict:\n",
    "        unvisited_ids.append(key)\n",
    "        add_to_dict(grid_dict[key], 'dist_val', None)\n",
    "\n",
    "    # sets distance value of start cell to its length\n",
    "    grid_dict[0]['dist_val'] = get_val_at_id(grid, 0)\n",
    "    id = unvisited_ids[0]\n",
    "\n",
    "    while id != end_id:\n",
    "        neighbours = get_cell_unvisited_neighbours(grid_dict, id)\n",
    "        cell_dict = grid_dict[id]\n",
    "        for neighbour_id in neighbours:\n",
    "            distance = cell_dict['dist_val'] + get_val_at_id(grid, neighbour_id)\n",
    "            neighbour_dict = grid_dict[neighbour_id]\n",
    "\n",
    "            # updates distance if neighbour has not been accessed before\n",
    "            if neighbour_dict['dist_val'] is None:\n",
    "                move_cell(grid_dict, id, neighbour_id)\n",
    "                neighbour_dict['dist_val'] = distance\n",
    "            \n",
    "            # updates distance if neighbours previous distance was longer\n",
    "            elif neighbour_dict['dist_val'] > distance:\n",
    "                move_cell(grid_dict, id, neighbour_id)\n",
    "                neighbour_dict['dist_val'] = distance\n",
    "        \n",
    "        # marks cell as visited and removes it from the unvisited list\n",
    "        cell_dict['visited'] = True\n",
    "        unvisited_ids.remove(id)\n",
    "\n",
    "        smallest_dist = None\n",
    "        next_id = -1\n",
    "\n",
    "        # chooses which cell to consider next\n",
    "        for potential_next_id in unvisited_ids:\n",
    "            next_cell_dict = grid_dict[potential_next_id]\n",
    "            next_dist = next_cell_dict['dist_val']\n",
    "\n",
    "            # always chooses the given cell if none has been chosen already\n",
    "            if smallest_dist is None:\n",
    "                next_id = potential_next_id\n",
    "                smallest_dist = next_dist\n",
    "\n",
    "            # chooses cell if it has already been considered by the main algorithm, and has a smaller distance than the previouslychosen cell\n",
    "            elif next_dist is not None and next_dist < smallest_dist:\n",
    "                next_id = potential_next_id\n",
    "                smallest_dist = next_dist\n",
    "        \n",
    "        id = next_id\n",
    "\n",
    "    return get_path(grid, grid_dict)"
   ]
  },
  {
   "source": [
    "Ant Colony Optimisation Algorithm:"
   ],
   "cell_type": "markdown",
   "metadata": {}
  },
  {
   "cell_type": "code",
   "execution_count": 17,
   "metadata": {},
   "outputs": [],
   "source": [
    "def aco(grid, grid_dict):\n",
    "\n",
    "    # adds pheremone characteristics to all cell dictionaries\n",
    "    for key in grid_dict:\n",
    "        add_to_dict(grid_dict[key], 'pheremone_level', ACO_INITIAL_PHEREMONE)\n",
    "        add_to_dict(grid_dict[key], 'pheremone_update', 0)\n",
    "    \n",
    "    last_path = []\n",
    "    # runs through chosen number of iterations\n",
    "    for i in range(ACO_ITERATIONS):\n",
    "        path = generate_solutions(grid, grid_dict)\n",
    "        last_path = path\n",
    "\n",
    "    set_parents(grid_dict, last_path)\n",
    "    return(last_path)"
   ]
  },
  {
   "source": [
    "Generates solutions for a chosen number of ants and returns the shortest path chosen"
   ],
   "cell_type": "markdown",
   "metadata": {}
  },
  {
   "cell_type": "code",
   "execution_count": 18,
   "metadata": {},
   "outputs": [],
   "source": [
    "def generate_solutions(grid, grid_dict):\n",
    "    end_id = get_end_id(grid)\n",
    "\n",
    "    paths = []\n",
    "    # simulates a given number of ants\n",
    "    for ant in range(ACO_ANT_COUNT):\n",
    "        current_id = 0\n",
    "        visited_ids = [0]\n",
    "\n",
    "        # ant chooses which cell to visit next until it reaches the end\n",
    "        while current_id != end_id:\n",
    "            current_id = edge_selection(grid, grid_dict, current_id)\n",
    "            visited_ids.append(current_id)\n",
    "        \n",
    "        paths.append(visited_ids)\n",
    "\n",
    "        # marks all cells as unvisited\n",
    "        for key in grid_dict:\n",
    "            grid_dict[key]['visited'] = False\n",
    "        # adds pheremone to visited cells\n",
    "        add_pheremone(grid, grid_dict, visited_ids)\n",
    "    \n",
    "    # generates alist of all the path lengths generated by the ants\n",
    "    path_lens = []\n",
    "    for path in paths:\n",
    "        path_lens.append(path_len(grid, path))\n",
    "    \n",
    "    # finds the shortest path\n",
    "    min_path_index = path_lens.index(min(path_lens))\n",
    "    min_path = paths[min_path_index]\n",
    "\n",
    "    # adds extra pheremone to the shortest distance\n",
    "    add_pheremone(grid, grid_dict, min_path)\n",
    "    update_pheremone(grid_dict)\n",
    "\n",
    "    return min_path"
   ]
  },
  {
   "source": [
    "Determines the next edge an ant will move to"
   ],
   "cell_type": "markdown",
   "metadata": {}
  },
  {
   "cell_type": "code",
   "execution_count": 19,
   "metadata": {},
   "outputs": [],
   "source": [
    "def edge_selection(grid, grid_dict, id):\n",
    "    neighbours = get_cell_neighbours(grid_dict, id)\n",
    "    neighbour_desirabilities = []\n",
    "\n",
    "    # calculates the desirability of a cell's neighbour\n",
    "    for neighbour in neighbours:\n",
    "        # gives a very low desirability if cell has been visited before\n",
    "        # mostly eliminates chances of cycles, but without giving the ant no movement options\n",
    "        visited_before = ACO_VISITED_INFLUENCE if grid_dict[neighbour]['visited'] else 1\n",
    "\n",
    "        # adds 1 to move cost to avoid dividing by 0\n",
    "        move_cost = get_val_at_id(grid, neighbour) + 1\n",
    "\n",
    "        # modifies the desirability of pheremones and path length by their influence factors\n",
    "        pheremone_level = grid_dict[neighbour]['pheremone_level'] ** ACO_PHEREMONE_INFLUENCE\n",
    "        move_desirability = (1 / move_cost) ** ACO_DISTANCE_INFLUENCE\n",
    "\n",
    "        # the overall desirability of a cell\n",
    "        move_value = pheremone_level * move_desirability * visited_before\n",
    "        neighbour_desirabilities.append(move_value)\n",
    "\n",
    "    probabilities = []\n",
    "\n",
    "    # calculates probability of moving to a given neighbour\n",
    "    desirability_sum = sum(neighbour_desirabilities)\n",
    "    for i in range(len(neighbours)):\n",
    "        probability = neighbour_desirabilities[i] / desirability_sum\n",
    "        probabilities.append(probability)\n",
    "    \n",
    "    grid_dict[id]['visited'] = True\n",
    "\n",
    "    # choosen the neighbour to move to\n",
    "    edge_choice = random.choices(neighbours, weights= probabilities)\n",
    "\n",
    "    return edge_choice[0]"
   ]
  },
  {
   "source": [
    "Determines the amount of pheremone to add to a visited cell"
   ],
   "cell_type": "markdown",
   "metadata": {}
  },
  {
   "cell_type": "code",
   "execution_count": 20,
   "metadata": {},
   "outputs": [],
   "source": [
    "def add_pheremone(grid, grid_dict, visited_ids):\n",
    "    # chooses amount of pheremone to add based on journey length (more for shorter journey, less for longer)\n",
    "    journey_length = path_len(grid, visited_ids)\n",
    "    added_pheremone = ACO_EXPECTED_DISTANCE / journey_length\n",
    "\n",
    "    # adds pheremone to all visited cells\n",
    "    for id in visited_ids:\n",
    "        grid_dict[id]['pheremone_update'] = added_pheremone"
   ]
  },
  {
   "source": [
    "Updates the pheremone values for every cell"
   ],
   "cell_type": "markdown",
   "metadata": {}
  },
  {
   "cell_type": "code",
   "execution_count": 21,
   "metadata": {},
   "outputs": [],
   "source": [
    "def update_pheremone(grid_dict):\n",
    "    for key in grid_dict:\n",
    "        # gets the prior level of pheremone and the amount to add\n",
    "        old_level = grid_dict[key]['pheremone_level']\n",
    "        added_pher = grid_dict[key]['pheremone_update']\n",
    "\n",
    "        # calculates the new pheremone level and resets the amount to add\n",
    "        grid_dict[key]['pheremone_level'] = (1 - ACO_EVAPORATION_COEFFICIENT) * old_level + added_pher\n",
    "        grid_dict[key]['pheremone_update'] = 0"
   ]
  },
  {
   "source": [
    "Updates the parents of all the cells in the path for the purposes of evaluation using the predefined functions"
   ],
   "cell_type": "markdown",
   "metadata": {}
  },
  {
   "cell_type": "code",
   "execution_count": 22,
   "metadata": {},
   "outputs": [],
   "source": [
    "def set_parents(grid_dict, path_ids):\n",
    "\n",
    "    for i in range(len(path_ids) - 1):\n",
    "        move_cell(grid_dict, path_ids[i], path_ids[i+1])\n",
    "    move_cell(grid_dict, -1, 0)"
   ]
  },
  {
   "source": [
    "Higher order function for running an algorithm, catches exceptions if function doesn't work"
   ],
   "cell_type": "markdown",
   "metadata": {}
  },
  {
   "cell_type": "code",
   "execution_count": 23,
   "metadata": {},
   "outputs": [],
   "source": [
    "# runs algorithm if asked to generate a grid\n",
    "def run_algorithm(func, x_size, y_size, show_grid=True, show_path_as_ids=False):\n",
    "    grid = generate_grid(x_size, y_size)\n",
    "\n",
    "    run_algorithm(func, grid, show_grid, show_path_as_ids)\n",
    "\n",
    "# runs algorithm if a grid is provided\n",
    "def run_algorithm(func, grid, show_grid=True, show_path_as_ids=False):\n",
    "    grid_dict = gen_grid_dict(grid)\n",
    "    try:\n",
    "        path = func(grid, grid_dict)\n",
    "        # path = get_path(grid, grid_dict)\n",
    "\n",
    "        if(show_grid):\n",
    "            print(grid)\n",
    "        show_visited(grid, path)\n",
    "\n",
    "        # chooses wheter to show path as cell ids or grid coordinates\n",
    "        if(show_path_as_ids):\n",
    "            print(path)\n",
    "        else:\n",
    "            path_coords = []\n",
    "            for id in path:\n",
    "                path_coords.append(cell_from_id(grid, id))\n",
    "            print(path_coords)\n",
    "\n",
    "        print('{0} algorithm gives a path length of {1}'.format(func.__name__, path_len(grid, path)))\n",
    "    except:\n",
    "        print(\"Invalid function provided/function throws an error\")"
   ]
  },
  {
   "source": [
    "Runs algorithm for testing purposes"
   ],
   "cell_type": "markdown",
   "metadata": {}
  },
  {
   "cell_type": "code",
   "execution_count": 24,
   "metadata": {},
   "outputs": [],
   "source": [
    "# runs algorithm if asked to generate a grid\n",
    "def run_algorithm_unsafe(func, x_size, y_size):\n",
    "    grid = generate_grid(x_size, y_size)\n",
    "\n",
    "    run_algorithm_unsafe(func, grid)\n",
    "\n",
    "# runs algorithm if a grid is provided\n",
    "def run_algorithm_unsafe(func, grid):\n",
    "    grid_dict = gen_grid_dict(grid)\n",
    "    path = func(grid, grid_dict)\n",
    "    # path = get_path(grid, grid_dict)\n",
    "\n",
    "    print(grid)\n",
    "    print(path)\n",
    "\n",
    "    show_visited(grid, path)\n",
    "\n",
    "    print(path_len(grid, path))"
   ]
  },
  {
   "source": [
    "Times how long an algorithm takes to execute"
   ],
   "cell_type": "markdown",
   "metadata": {}
  },
  {
   "cell_type": "code",
   "execution_count": 25,
   "metadata": {},
   "outputs": [],
   "source": [
    "from timeit import default_timer as timer\n",
    "\n",
    "def time_algorithm(func, x_size, y_size, show_grid= False, show_path_as_ids= False, safe= False):\n",
    "    start = timer()\n",
    "    if safe:\n",
    "        run_algorithm(func, x_size, y_size, show_grid, show_path_as_ids)\n",
    "    else:\n",
    "        run_algorithm_unsafe(func, x_size, y_size)\n",
    "    end = timer()\n",
    "    print(func.__name__ + \" algorithm executed in \" + str(end - start) + \" seconds\")\n",
    "\n",
    "def time_algorithm(func, grid, show_grid=False, show_path_as_ids= False, safe=False):\n",
    "    start = timer()\n",
    "    if safe:\n",
    "        run_algorithm(func, grid, show_grid, show_path_as_ids)\n",
    "    else:\n",
    "        run_algorithm_unsafe(func, grid)\n",
    "    end = timer()\n",
    "    print(func.__name__ + \" algorithm executed in \" + str(end - start) + \" seconds\")"
   ]
  },
  {
   "cell_type": "code",
   "execution_count": 26,
   "metadata": {},
   "outputs": [],
   "source": [
    "def show_visited(grid, path):\n",
    "    width = len(grid[0])\n",
    "    height = len(grid)\n",
    "\n",
    "    zero_grid = np.zeros((height, width), dtype=int)\n",
    "\n",
    "    for id in path:\n",
    "        (x, y) = cell_from_id(grid, id)\n",
    "        zero_grid[y][x] += 1\n",
    "    \n",
    "    print(zero_grid)"
   ]
  },
  {
   "cell_type": "code",
   "execution_count": 27,
   "metadata": {
    "tags": []
   },
   "outputs": [
    {
     "output_type": "stream",
     "name": "stdout",
     "text": [
      "[[4 0 2 3 0 3 1 0 0 3]\n",
      " [0 7 1 7 0 2 1 4 1 4]\n",
      " [7 1 3 7 6 1 1 5 4 4]\n",
      " [4 6 6 5 4 8 6 2 2 3]\n",
      " [5 5 4 4 0 1 1 2 6 4]\n",
      " [4 8 6 3 5 0 2 5 5 4]\n",
      " [1 8 7 6 1 5 1 8 5 8]\n",
      " [8 6 8 0 4 3 4 6 0 0]\n",
      " [2 8 7 5 5 0 4 0 0 3]\n",
      " [1 6 0 8 8 8 2 8 3 4]]\n",
      "[[1 1 1 0 0 0 0 0 0 0]\n",
      " [0 0 1 0 0 0 0 0 0 0]\n",
      " [0 1 1 0 0 0 0 0 0 0]\n",
      " [0 1 1 1 1 0 0 0 0 0]\n",
      " [0 0 0 0 1 1 0 0 0 0]\n",
      " [0 0 0 0 0 1 0 0 0 0]\n",
      " [0 0 0 0 0 1 0 0 0 0]\n",
      " [0 0 0 0 0 1 0 0 0 0]\n",
      " [0 0 0 0 0 1 1 1 1 0]\n",
      " [0 0 0 0 0 0 0 0 1 1]]\n",
      "[(0, 0), (1, 0), (2, 0), (2, 1), (2, 2), (1, 2), (1, 3), (2, 3), (3, 3), (4, 3), (4, 4), (5, 4), (5, 5), (5, 6), (5, 7), (5, 8), (6, 8), (7, 8), (8, 8), (8, 9), (9, 9)]\n",
      "aco algorithm gives a path length of 52\n",
      "aco algorithm executed in 1.7091654999999264 seconds\n",
      "[[1 1 0 0 0 0 0 0 0 0]\n",
      " [0 1 1 0 0 0 0 0 0 0]\n",
      " [0 0 1 1 0 0 0 0 0 0]\n",
      " [0 0 0 1 1 0 0 0 0 0]\n",
      " [0 0 0 0 1 1 0 0 0 0]\n",
      " [0 0 0 0 0 1 1 0 0 0]\n",
      " [0 0 0 0 0 0 1 1 0 0]\n",
      " [0 0 0 0 0 0 0 1 1 0]\n",
      " [0 0 0 0 0 0 0 0 1 1]\n",
      " [0 0 0 0 0 0 0 0 0 1]]\n",
      "[(0, 0), (1, 0), (1, 1), (2, 1), (2, 2), (3, 2), (3, 3), (4, 3), (4, 4), (5, 4), (5, 5), (6, 5), (6, 6), (7, 6), (7, 7), (8, 7), (8, 8), (9, 8), (9, 9)]\n",
      "zigzag algorithm gives a path length of 56\n",
      "zigzag algorithm executed in 0.000881100000015067 seconds\n",
      "[[1 1 1 1 1 0 0 0 0 0]\n",
      " [0 0 0 0 1 1 1 0 0 0]\n",
      " [0 0 0 0 0 0 1 0 0 0]\n",
      " [0 0 0 0 0 0 1 0 0 0]\n",
      " [0 0 0 0 0 0 1 0 0 0]\n",
      " [0 0 0 0 0 0 1 0 0 0]\n",
      " [0 0 0 0 0 0 1 0 0 0]\n",
      " [0 0 0 0 0 0 1 0 0 0]\n",
      " [0 0 0 0 0 0 1 1 1 1]\n",
      " [0 0 0 0 0 0 0 0 0 1]]\n",
      "[(0, 0), (1, 0), (2, 0), (3, 0), (4, 0), (4, 1), (5, 1), (6, 1), (6, 2), (6, 3), (6, 4), (6, 5), (6, 6), (6, 7), (6, 8), (7, 8), (8, 8), (9, 8), (9, 9)]\n",
      "dijkstras algorithm gives a path length of 38\n",
      "dijkstras algorithm executed in 0.002167200000030789 seconds\n"
     ]
    }
   ],
   "source": [
    "# constants effecting ACO algorithm behaviour\n",
    "ACO_ITERATIONS = 25\n",
    "ACO_ANT_COUNT = 20\n",
    "ACO_INITIAL_PHEREMONE = 1\n",
    "ACO_PHEREMONE_INFLUENCE = 1.3\n",
    "ACO_DISTANCE_INFLUENCE = 1.0\n",
    "ACO_VISITED_INFLUENCE = 0.05\n",
    "ACO_EXPECTED_DISTANCE = 50\n",
    "ACO_EVAPORATION_COEFFICIENT = 0.5\n",
    "\n",
    "testing_grid = generate_grid(10, 10)\n",
    "print(testing_grid)\n",
    "\n",
    "time_algorithm(aco, testing_grid, safe=True)\n",
    "time_algorithm(zigzag, testing_grid, safe=True)\n",
    "time_algorithm(dijkstras, testing_grid, safe=True)"
   ]
  }
 ]
}